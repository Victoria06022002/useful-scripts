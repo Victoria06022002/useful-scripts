{
 "cells": [
  {
   "cell_type": "code",
   "execution_count": null,
   "id": "2d6348bc-5efa-49c2-a86b-db6603eb25fa",
   "metadata": {},
   "outputs": [],
   "source": [
    "#Create python script ,,Calculator.py\"\n",
    "import argparse\n",
    "\n",
    "# Taschenrechner-Funktionen\n",
    "def add(a, b):\n",
    "    return a + b\n",
    "\n",
    "def subtract(a, b):\n",
    "    return a - b\n",
    "\n",
    "# CLI-Funktion\n",
    "def main():\n",
    "    parser = argparse.ArgumentParser(description=\"Simple Calculator\")\n",
    "    parser.add_argument(\"operation\", choices=[\"add\", \"subtract\"])\n",
    "    parser.add_argument(\"a\", type=float)\n",
    "    parser.add_argument(\"b\", type=float)\n",
    "    args = parser.parse_args()\n",
    "\n",
    "    if args.operation == \"add\":\n",
    "        print(add(args.a, args.b))\n",
    "    elif args.operation == \"subtract\":\n",
    "        print(subtract(args.a, args.b))\n",
    "\n",
    "# Wenn das Skript direkt ausgeführt wird (CLI-Modus)\n",
    "if __name__ == \"__main__\":\n",
    "    main()"
   ]
  },
  {
   "cell_type": "code",
   "execution_count": null,
   "id": "edf5edd3-1f23-484f-9677-93a5920b5cd0",
   "metadata": {},
   "outputs": [],
   "source": [
    "#Create python script \"setup.py\"\n",
    "\n",
    "from setuptools import setup\n",
    "\n",
    "setup(\n",
    "    name=\"calculator\",\n",
    "    version=\"0.1\",\n",
    "    py_modules=[\"calculator\"],  # Nur eine Python-Datei als Modul\n",
    "    entry_points={\n",
    "        \"console_scripts\": [\n",
    "            \"calculator=calculator:main\",\n",
    "        ],\n",
    "    },\n",
    ")\n"
   ]
  },
  {
   "cell_type": "markdown",
   "id": "a1efdc59-9a50-4a32-871d-89cfa3c8e761",
   "metadata": {},
   "source": [
    "# Paket bauen und installieren\n",
    "pip install build   #sh\n",
    "python -m build  #sh\n",
    "\n",
    "pip install dist/calculator-0.1-py3-none-any.whl #sh\n",
    "\n",
    "# Testen\n",
    ">>> from calculator import add\n",
    ">>> add(10, 20)\n",
    "30\n",
    "\n",
    "calculator add 10 20    #Kommandozeile"
   ]
  },
  {
   "cell_type": "code",
   "execution_count": null,
   "id": "93a74e86-f968-49e1-8423-78c769301838",
   "metadata": {},
   "outputs": [],
   "source": []
  }
 ],
 "metadata": {
  "kernelspec": {
   "display_name": "Python 3 (ipykernel)",
   "language": "python",
   "name": "python3"
  },
  "language_info": {
   "codemirror_mode": {
    "name": "ipython",
    "version": 3
   },
   "file_extension": ".py",
   "mimetype": "text/x-python",
   "name": "python",
   "nbconvert_exporter": "python",
   "pygments_lexer": "ipython3",
   "version": "3.12.2"
  }
 },
 "nbformat": 4,
 "nbformat_minor": 5
}
